{
 "cells": [
  {
   "cell_type": "code",
   "execution_count": 24,
   "id": "aea77c08",
   "metadata": {},
   "outputs": [],
   "source": [
    "#importing required libraries\n",
    "import cv2\n",
    "import numpy\n"
   ]
  },
  {
   "cell_type": "code",
   "execution_count": 25,
   "id": "77315815",
   "metadata": {},
   "outputs": [],
   "source": [
    "#creating an array i.e black image\n",
    "photo = numpy.zeros([600,600,3])\n",
    "cv2.imshow('black', photo)\n",
    "cv2.waitKey()\n",
    "cv2.destroyAllWindows()\n"
   ]
  },
  {
   "cell_type": "code",
   "execution_count": 26,
   "id": "bbd691ad",
   "metadata": {},
   "outputs": [],
   "source": [
    "#creating a rectangle\n",
    "rec1 = cv2.rectangle(photo,(500,500),(50,50),[0,0,255],3)\n",
    "cv2.imshow('black', rec1)\n",
    "cv2.waitKey()\n",
    "cv2.destroyAllWindows() \n"
   ]
  },
  {
   "cell_type": "code",
   "execution_count": 27,
   "id": "7d1e0641",
   "metadata": {},
   "outputs": [],
   "source": [
    "#creating a rectangle\n",
    "rec2 = cv2.rectangle(rec1,(400,400),(60,60),[255,0,0],3)\n",
    "cv2.imshow('black', rec2)\n",
    "cv2.waitKey()\n",
    "cv2.destroyAllWindows()\n"
   ]
  },
  {
   "cell_type": "code",
   "execution_count": 28,
   "id": "39bdeff3",
   "metadata": {},
   "outputs": [],
   "source": [
    "#creating a rectangle\n",
    "rec3 = cv2.rectangle(rec2,(300,300),(70,70),[0,255,0],3)\n",
    "cv2.imshow('black', rec3)\n",
    "cv2.waitKey()\n",
    "cv2.destroyAllWindows()\n"
   ]
  },
  {
   "cell_type": "code",
   "execution_count": 29,
   "id": "05eb3575",
   "metadata": {},
   "outputs": [],
   "source": [
    "#creating a rectangle\n",
    "rec4 = cv2.rectangle(rec3,(200,200),(80,80),[172,25,89],3)\n",
    "cv2.imshow('black', rec4)\n",
    "cv2.waitKey()\n",
    "cv2.destroyAllWindows()\n"
   ]
  },
  {
   "cell_type": "code",
   "execution_count": 31,
   "id": "be52d0cd",
   "metadata": {},
   "outputs": [],
   "source": [
    "#creating a circle\n",
    "cir = cv2.circle(rec1,(130,130),8,[255,0,132],80)\n",
    "cv2.imshow('black', cir)\n",
    "cv2.waitKey()\n",
    "cv2.destroyAllWindows()\n",
    "\n"
   ]
  },
  {
   "cell_type": "code",
   "execution_count": null,
   "id": "6d36533d",
   "metadata": {},
   "outputs": [],
   "source": []
  }
 ],
 "metadata": {
  "kernelspec": {
   "display_name": "Python 3",
   "language": "python",
   "name": "python3"
  },
  "language_info": {
   "codemirror_mode": {
    "name": "ipython",
    "version": 3
   },
   "file_extension": ".py",
   "mimetype": "text/x-python",
   "name": "python",
   "nbconvert_exporter": "python",
   "pygments_lexer": "ipython3",
   "version": "3.8.8"
  }
 },
 "nbformat": 4,
 "nbformat_minor": 5
}
