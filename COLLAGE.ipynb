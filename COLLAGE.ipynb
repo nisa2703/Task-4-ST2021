{
 "cells": [
  {
   "cell_type": "code",
   "execution_count": 9,
   "id": "7382b242",
   "metadata": {},
   "outputs": [],
   "source": [
    "#importing libraries\n",
    "import cv2\n",
    "import numpy"
   ]
  },
  {
   "cell_type": "code",
   "execution_count": 10,
   "id": "cfb3e106",
   "metadata": {},
   "outputs": [],
   "source": [
    "#reading and resizing image\n",
    "picture1 = cv2.resize(cv2.imread('blue.jpg'),(200,200))"
   ]
  },
  {
   "cell_type": "code",
   "execution_count": 11,
   "id": "8c07492a",
   "metadata": {},
   "outputs": [],
   "source": [
    "#reading and resizing image\n",
    "picture2 = cv2.resize(cv2.imread('brown.jpg'),(200,200))"
   ]
  },
  {
   "cell_type": "code",
   "execution_count": 12,
   "id": "88880f8b",
   "metadata": {},
   "outputs": [],
   "source": [
    "#reading and resizing image\n",
    "picture3 = cv2.resize(cv2.imread('green.jpg'),(200,200))"
   ]
  },
  {
   "cell_type": "code",
   "execution_count": 13,
   "id": "9727c0b3",
   "metadata": {},
   "outputs": [],
   "source": [
    "#reading and resizing image\n",
    "picture4 = cv2.resize(cv2.imread('orange.jpg'),(200,200))"
   ]
  },
  {
   "cell_type": "code",
   "execution_count": 14,
   "id": "8156580a",
   "metadata": {},
   "outputs": [],
   "source": [
    "#horizontal collage of pic 1&2\n",
    "collage1 = numpy.hstack((picture1,picture2))\n",
    "cv2.imshow('image', collage1)\n",
    "cv2.waitKey()\n",
    "cv2.destroyAllWindows()\n"
   ]
  },
  {
   "cell_type": "code",
   "execution_count": 15,
   "id": "0cbbd450",
   "metadata": {},
   "outputs": [],
   "source": [
    "#horizontal collage of pic 3&4\n",
    "collage2 = numpy.hstack((picture3,picture4))\n",
    "cv2.imshow('image1', collage2)\n",
    "cv2.waitKey()\n",
    "cv2.destroyAllWindows()\n"
   ]
  },
  {
   "cell_type": "code",
   "execution_count": 16,
   "id": "ce4b5eed",
   "metadata": {},
   "outputs": [],
   "source": [
    "#vertical collage of collage 1&2\n",
    "collage = numpy.vstack((collage1,collage2))\n",
    "cv2.imshow('imagefinal', collage)\n",
    "cv2.waitKey()\n",
    "cv2.destroyAllWindows()\n"
   ]
  },
  {
   "cell_type": "code",
   "execution_count": null,
   "id": "d0f603c2",
   "metadata": {},
   "outputs": [],
   "source": []
  },
  {
   "cell_type": "code",
   "execution_count": null,
   "id": "d1544f33",
   "metadata": {},
   "outputs": [],
   "source": []
  }
 ],
 "metadata": {
  "kernelspec": {
   "display_name": "Python 3",
   "language": "python",
   "name": "python3"
  },
  "language_info": {
   "codemirror_mode": {
    "name": "ipython",
    "version": 3
   },
   "file_extension": ".py",
   "mimetype": "text/x-python",
   "name": "python",
   "nbconvert_exporter": "python",
   "pygments_lexer": "ipython3",
   "version": "3.8.8"
  }
 },
 "nbformat": 4,
 "nbformat_minor": 5
}
