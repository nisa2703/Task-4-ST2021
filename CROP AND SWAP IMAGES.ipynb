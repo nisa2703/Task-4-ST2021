{
 "cells": [
  {
   "cell_type": "code",
   "execution_count": 24,
   "id": "6e7e6a19",
   "metadata": {},
   "outputs": [],
   "source": [
    "#importing the required libraries\n",
    "import cv2\n",
    "import numpy\n"
   ]
  },
  {
   "cell_type": "code",
   "execution_count": 25,
   "id": "015e8761",
   "metadata": {},
   "outputs": [],
   "source": [
    "#reading and reshaping the picture1\n",
    "picture1 = cv2.resize(cv2.imread('mon.jpg'),(300,300))\n",
    "cv2.imshow('black', picture1)\n",
    "cv2.waitKey()\n",
    "cv2.destroyAllWindows()\n"
   ]
  },
  {
   "cell_type": "code",
   "execution_count": 26,
   "id": "62bea899",
   "metadata": {},
   "outputs": [],
   "source": [
    "#reading and reshaping the picture2\n",
    "picture2 = cv2.resize(cv2.imread('tig.jpg'),(300,300))\n",
    "cv2.imshow('blacki', picture2)\n",
    "cv2.waitKey()\n",
    "cv2.destroyAllWindows()\n"
   ]
  },
  {
   "cell_type": "code",
   "execution_count": 27,
   "id": "a6b76542",
   "metadata": {},
   "outputs": [],
   "source": [
    "#creates a vertical collage of the two images\n",
    "collage = numpy.vstack((picture1,picture2))\n",
    "cv2.imshow('coll', collage)\n",
    "cv2.waitKey()\n",
    "cv2.destroyAllWindows()\n"
   ]
  },
  {
   "cell_type": "code",
   "execution_count": 28,
   "id": "81b3a25a",
   "metadata": {},
   "outputs": [],
   "source": [
    "#swaps the picture1 cropped part onto picture 2\n",
    "A = picture1[100:180,100:200]\n",
    "picture2[100:180,100:200] = A\n",
    "cv2.imshow('shift', picture2)\n",
    "cv2.waitKey()\n",
    "cv2.destroyAllWindows()\n"
   ]
  },
  {
   "cell_type": "code",
   "execution_count": 29,
   "id": "b96734eb",
   "metadata": {},
   "outputs": [],
   "source": [
    "#swaps the picture2 cropped part onto picture1\n",
    "picture2 = cv2.resize(cv2.imread('tig.jpg'),(300,300))\n",
    "B = picture2[100:180,100:200]\n",
    "picture1[100:180,100:200] = B\n",
    "cv2.imshow('shiftie', picture1)\n",
    "cv2.waitKey()\n",
    "cv2.destroyAllWindows()\n"
   ]
  },
  {
   "cell_type": "code",
   "execution_count": null,
   "id": "159e0df7",
   "metadata": {},
   "outputs": [],
   "source": []
  },
  {
   "cell_type": "code",
   "execution_count": null,
   "id": "e21312b8",
   "metadata": {},
   "outputs": [],
   "source": []
  }
 ],
 "metadata": {
  "kernelspec": {
   "display_name": "Python 3",
   "language": "python",
   "name": "python3"
  },
  "language_info": {
   "codemirror_mode": {
    "name": "ipython",
    "version": 3
   },
   "file_extension": ".py",
   "mimetype": "text/x-python",
   "name": "python",
   "nbconvert_exporter": "python",
   "pygments_lexer": "ipython3",
   "version": "3.8.8"
  }
 },
 "nbformat": 4,
 "nbformat_minor": 5
}
